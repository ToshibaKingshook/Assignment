{
  "nbformat": 4,
  "nbformat_minor": 0,
  "metadata": {
    "colab": {
      "provenance": []
    },
    "kernelspec": {
      "name": "python3",
      "display_name": "Python 3"
    },
    "language_info": {
      "name": "python"
    }
  },
  "cells": [
    {
      "cell_type": "code",
      "execution_count": 2,
      "metadata": {
        "id": "HJ69pF-d5pFY",
        "colab": {
          "base_uri": "https://localhost:8080/"
        },
        "outputId": "191dbb6b-f7eb-48f8-fd16-373aef8f83b2"
      },
      "outputs": [
        {
          "output_type": "stream",
          "name": "stdout",
          "text": [
            "Enter a mountain name: Galdhøpiggen\n",
            "Enter the length of trip and the vertical climb of trip (separated by space): 2 3\n",
            "Enter a mountain name: Kjerag\n",
            "Enter the length of trip and the vertical climb of trip (separated by space): 5 9\n",
            "Enter a mountain name: Ulriken\n",
            "Enter the length of trip and the vertical climb of trip (separated by space): 8 7\n",
            "Enter a mountain name: Oksskolten\n",
            "Enter the length of trip and the vertical climb of trip (separated by space): 4 6\n",
            "Enter a mountain name: END\n",
            "..............................The Report..............................\n",
            "Name of the Mountains:\n",
            "Galdhøpiggen, Kjerag, Ulriken, Oksskolten\n",
            "Total length of trip:  19\n",
            "Total vertical climb of trip:  25\n"
          ]
        }
      ],
      "source": [
        "mountains_list = []\n",
        "length_of_trip=0\n",
        "height_of_trip=0\n",
        "\n",
        "\n",
        "while True:\n",
        "    mountains_name = input('Enter a mountain name: ')\n",
        "\n",
        "    if mountains_name == 'END':\n",
        "        break\n",
        "\n",
        "    mountains_list.append(mountains_name)\n",
        "    x,y = input(\"Enter the length of trip and the vertical climb of trip (separated by space): \").split()\n",
        "    length_of_trip=length_of_trip+int(x)\n",
        "    height_of_trip=height_of_trip+int(y)\n",
        "    \n",
        "\n",
        "\n",
        "\n",
        "print(\"..............................The Report..............................\")\n",
        "print('Name of the Mountains:')\n",
        "print(*mountains_list, sep=', ')\n",
        "print(\"Total length of trip: \", length_of_trip)\n",
        "print(\"Total vertical climb of trip: \", height_of_trip)\n",
        "\n",
        "\n"
      ]
    }
  ]
}